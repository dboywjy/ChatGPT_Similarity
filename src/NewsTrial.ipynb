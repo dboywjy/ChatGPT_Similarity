{
 "cells": [
  {
   "cell_type": "code",
   "execution_count": 1,
   "metadata": {},
   "outputs": [],
   "source": [
    "from utils import *"
   ]
  },
  {
   "cell_type": "code",
   "execution_count": 2,
   "metadata": {},
   "outputs": [
    {
     "name": "stdout",
     "output_type": "stream",
     "text": [
      "654\n"
     ]
    }
   ],
   "source": [
    "import os\n",
    "\n",
    "directory = '../text'\n",
    "\n",
    "file_list = []\n",
    "for filename in os.listdir(directory):\n",
    "    if os.path.isfile(os.path.join(directory, filename)):\n",
    "        file_list.append(filename)\n",
    "\n",
    "# all the news titles\n",
    "print(len(file_list))"
   ]
  },
  {
   "cell_type": "code",
   "execution_count": 3,
   "metadata": {},
   "outputs": [],
   "source": [
    "for i in range(0, 50): # first 50 news title embeddings\n",
    "    title_extracted = file_list[i].replace(\".html\", \"\")\n",
    "    text = convert_to_simplified(title_extracted) # change to simplified chinese\n",
    "    text = rmCharacters(text, punct=True, stop=True) # remove stopping words\n",
    "    vector = embeddingfunc(client, text, model=\"text-embedding-3-small\", dimensions=1536) # get embedding\n",
    "    save2text(file_list[i], vector) # 保存embedding"
   ]
  },
  {
   "cell_type": "code",
   "execution_count": 4,
   "metadata": {},
   "outputs": [
    {
     "data": {
      "text/plain": [
       "24    CLASSIFIED GP(08232)發布年度業績，股東應占虧損爲1534.6萬港元，同比...\n",
       "47        【公司盈警】稻草熊娱乐(02125)料2023年度盈转亏0.9-1.3亿元人民币.html\n",
       "28       FIT HON TENG(06088.HK)擬3月12日舉行董事會會議批准年度業績.html\n",
       "34       MI能源(01555.HK)盈警：預期2023年度淨虧損約1.47億至1.67億元.html\n",
       "23         BOSS直聘-W(02076.HK)3月12日舉行董事會會議審議及批准年度業績.html\n",
       "Name: text, dtype: object"
      ]
     },
     "execution_count": 4,
     "metadata": {},
     "output_type": "execute_result"
    }
   ],
   "source": [
    "simRank('财报', n=5)"
   ]
  },
  {
   "cell_type": "code",
   "execution_count": null,
   "metadata": {},
   "outputs": [],
   "source": []
  }
 ],
 "metadata": {
  "kernelspec": {
   "display_name": "afe",
   "language": "python",
   "name": "python3"
  },
  "language_info": {
   "codemirror_mode": {
    "name": "ipython",
    "version": 3
   },
   "file_extension": ".py",
   "mimetype": "text/x-python",
   "name": "python",
   "nbconvert_exporter": "python",
   "pygments_lexer": "ipython3",
   "version": "3.10.13"
  }
 },
 "nbformat": 4,
 "nbformat_minor": 2
}
