{
 "cells": [
  {
   "cell_type": "code",
   "execution_count": 1,
   "metadata": {},
   "outputs": [],
   "source": [
    "from utils import *"
   ]
  },
  {
   "cell_type": "code",
   "execution_count": 8,
   "metadata": {},
   "outputs": [
    {
     "name": "stdout",
     "output_type": "stream",
     "text": [
      "654\n"
     ]
    }
   ],
   "source": [
    "# import os\n",
    "\n",
    "# directory = '../text'\n",
    "\n",
    "# file_list = []\n",
    "# for filename in os.listdir(directory):\n",
    "#     if os.path.isfile(os.path.join(directory, filename)):\n",
    "#         file_list.append(filename)\n",
    "\n",
    "# # 打印文件名列表\n",
    "# print(len(file_list))\n",
    "\n",
    "# for i in range(0, 10):\n",
    "#     with open(os.path.join(directory, file_list[i]), 'r', encoding='utf-8') as file:\n",
    "#         html_content = file.read()\n",
    "#     html_extracted = extract_text_from_html(html_content)\n",
    "#     text = convert_to_simplified(html_extracted)\n",
    "#     text = rmCharacters(text, punct=True, stop=True)\n",
    "#     vector = embeddingfunc(client, text, model=\"text-embedding-3-small\", dimensions=1536)\n",
    "#     save2text(file_list[i], vector)"
   ]
  },
  {
   "cell_type": "code",
   "execution_count": 3,
   "metadata": {},
   "outputs": [
    {
     "data": {
      "text/plain": [
       "6            3連板四川金頂(600678.SH)：公司無任何形成收入的氫能源相關産品.html\n",
       "7    4連板 天永智能(603895.SH)：無任何形成收入的氫能源産品 現有産品與氫能源無任何關...\n",
       "1                    由于库存充足 全球液化天然气-亚洲现货液化天然气价格持平.html\n",
       "3               2024年“全球視野·下注中國”十大核心ETF最新解讀（2月月報）.html\n",
       "9                      5億補貼推動以舊換新，蘇寧易購發佈2024年星雲計劃.html\n",
       "Name: text, dtype: object"
      ]
     },
     "execution_count": 3,
     "metadata": {},
     "output_type": "execute_result"
    }
   ],
   "source": [
    "simRank('能源领域最近有什么新闻吗？', n=5)"
   ]
  }
 ],
 "metadata": {
  "kernelspec": {
   "display_name": "afe",
   "language": "python",
   "name": "python3"
  },
  "language_info": {
   "codemirror_mode": {
    "name": "ipython",
    "version": 3
   },
   "file_extension": ".py",
   "mimetype": "text/x-python",
   "name": "python",
   "nbconvert_exporter": "python",
   "pygments_lexer": "ipython3",
   "version": "3.10.13"
  }
 },
 "nbformat": 4,
 "nbformat_minor": 2
}
